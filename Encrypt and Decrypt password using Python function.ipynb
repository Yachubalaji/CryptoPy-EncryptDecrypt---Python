{
 "cells": [
  {
   "cell_type": "code",
   "execution_count": 5,
   "id": "1b856182",
   "metadata": {},
   "outputs": [
    {
     "name": "stdout",
     "output_type": "stream",
     "text": [
      "The encrypted sentence is : yhtrumanhsirK ijalaB htnawhsaY olleh \n",
      "The decrypted sentence is :  hello Yashwanth Balaji Krishnamurthy\n",
      "The caesar encrypted sentence is : Z74\"\"%Zy0)7-0$*7Zb0\"098Zk(8)7$0#+(*7/\n",
      "The caesar decrypted sentence is :  hello Yashwanth Balaji Krishnamurthy\n"
     ]
    }
   ],
   "source": [
    "#Writing Python function to encrypt and decrypt the given word as well as to store the key value \n",
    "\n",
    "import string\n",
    "\n",
    "upper = string.ascii_uppercase\n",
    "lower = string.ascii_lowercase\n",
    "digits = string.digits\n",
    "symbols = string.punctuation\n",
    "all_chars = upper + lower + digits + symbols + ' '\n",
    "\n",
    "def reverse_encryption(input_pw):\n",
    "    pw_cipher = input_pw[::-1]\n",
    "    return pw_cipher\n",
    "\n",
    "def reverse_decryption(input_cipher):\n",
    "    pw_plaintext = input_cipher[::-1]\n",
    "    return pw_plaintext\n",
    "\n",
    "def caesar_encryption(input_pw, cae_key):\n",
    "    cae_cipher = ''\n",
    "    size_char = len(all_chars)\n",
    "    for i in input_pw:\n",
    "        if i in all_chars:\n",
    "            num = all_chars.find(i)\n",
    "            num_new = (num + cae_key)%size_char\n",
    "            cae_cipher = cae_cipher + all_chars[num_new]\n",
    "    return cae_cipher\n",
    "\n",
    "def caesar_decryption(input_cipher, cae_key):\n",
    "    cae_plain = ''\n",
    "    size_char = len(all_chars)\n",
    "    for i in input_cipher:\n",
    "        if i in all_chars:\n",
    "            num = all_chars.find(i)\n",
    "            num_new = (num - cae_key)%size_char\n",
    "            cae_plain = cae_plain + all_chars[num_new]\n",
    "    return cae_plain\n",
    "\n",
    "my_sentence=\" hello Yashwanth Balaji Krishnamurthy\"\n",
    "\n",
    "encrypted_format= reverse_encryption(my_sentence)\n",
    "decrypted_format= reverse_decryption(encrypted_format)\n",
    "\n",
    "print(\"The encrypted sentence is :\",encrypted_format)\n",
    "print(\"The decrypted sentence is :\",decrypted_format)\n",
    "\n",
    "caesar_key_value= 26\n",
    "\n",
    "caesar_encrypted_sentence= caesar_encryption(my_sentence,caesar_key_value)\n",
    "caesar_decrypted_sentence= caesar_decryption(caesar_encrypted_sentence,caesar_key_value)\n",
    "\n",
    "print(\"The caesar encrypted sentence is :\",caesar_encrypted_sentence)\n",
    "print(\"The caesar decrypted sentence is :\",caesar_decrypted_sentence)"
   ]
  },
  {
   "cell_type": "code",
   "execution_count": null,
   "id": "c3222309",
   "metadata": {},
   "outputs": [],
   "source": []
  }
 ],
 "metadata": {
  "kernelspec": {
   "display_name": "Python 3 (ipykernel)",
   "language": "python",
   "name": "python3"
  },
  "language_info": {
   "codemirror_mode": {
    "name": "ipython",
    "version": 3
   },
   "file_extension": ".py",
   "mimetype": "text/x-python",
   "name": "python",
   "nbconvert_exporter": "python",
   "pygments_lexer": "ipython3",
   "version": "3.11.5"
  }
 },
 "nbformat": 4,
 "nbformat_minor": 5
}
